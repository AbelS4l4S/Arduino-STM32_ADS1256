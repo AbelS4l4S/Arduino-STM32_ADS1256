{
  "nbformat": 4,
  "nbformat_minor": 0,
  "metadata": {
    "colab": {
      "provenance": [],
      "authorship_tag": "ABX9TyP0KoMP/5ZIWg7APHjtrBaP",
      "include_colab_link": true
    },
    "kernelspec": {
      "name": "python3",
      "display_name": "Python 3"
    },
    "language_info": {
      "name": "python"
    }
  },
  "cells": [
    {
      "cell_type": "markdown",
      "metadata": {
        "id": "view-in-github",
        "colab_type": "text"
      },
      "source": [
        "<a href=\"https://colab.research.google.com/github/AbelS4l4S/Arduino-STM32_ADS1256/blob/main/%F0%9F%95%B7%EF%B8%8FJSOA%F0%9F%95%B7%EF%B8%8F.ipynb\" target=\"_parent\"><img src=\"https://colab.research.google.com/assets/colab-badge.svg\" alt=\"Open In Colab\"/></a>"
      ]
    },
    {
      "cell_type": "code",
      "execution_count": null,
      "metadata": {
        "id": "Et3DUD4ojktS"
      },
      "outputs": [],
      "source": [
        "import numpy as np\n",
        "from random import random\n",
        "import math as mt"
      ]
    },
    {
      "cell_type": "code",
      "source": [
        "pop_size = 10\n",
        "functn_name = \"F2\"\n",
        "iterations = 10"
      ],
      "metadata": {
        "id": "y9ARGLW8jr4J"
      },
      "execution_count": null,
      "outputs": []
    },
    {
      "cell_type": "code",
      "source": [
        "def F1 (x):\n",
        "  function = 0\n",
        "  for i in x:\n",
        "    function = function + i**2\n",
        "  return function\n",
        "\n",
        "\n",
        "def F2 (x):\n",
        "  # ----- restricciones -----\n",
        "  g = np.array([-x[1]+(0.019*x[2]), #g(1)\n",
        "       -x[0]+(0.00954*x[2]), #g(2)\n",
        "       -mt.pi*(x[2]**2)*x[3]-((4*mt.pi*(x[2]**3)/3))+ 129600, #g(3)\n",
        "       -x[3]-240]) #g(4)\n",
        "  suma = np.sum(np.square(g))\n",
        "\n",
        "  if (g[0] <= 0 and g[1]<= 0 and g[2]<= 0 and g[3]<= 0):\n",
        "    function =  (0.6224*x[0]*x[2]*x[3]) + (1.7781*x[1]*(x[2]**2)) \n",
        "    + ( 3.1661*(x[0]**2)*x[3]) + ( 19.84*(x[0]**2)*x[2])\n",
        "  else:\n",
        "    function =  (0.6224*x[0]*x[2]*x[3]) + (1.7781*x[1]*(x[2]**2)) \n",
        "    + ( 3.1661*(x[0]**2)*x[3]) + ( 19.84*(x[0]**2)*x[2])*suma*5000\n",
        "  \n",
        "  return function\n",
        "\n",
        "\n",
        "parameters = {\n",
        "    #      f(x)|lb|ub|dim\n",
        "    \"F1\": (F1,-100,100,4),\n",
        "    \"F2\": (F2,(0,0,10,10),(99,99,200,200),4)\n",
        "    }\n",
        "\n",
        "\n",
        "def functn_dtls(F):\n",
        "  return parameters.get(F)"
      ],
      "metadata": {
        "id": "ZJkj576smPtG"
      },
      "execution_count": null,
      "outputs": []
    },
    {
      "cell_type": "code",
      "source": [
        "def initialization(pop_size, dim, ub, lb):\n",
        "\n",
        "  if type(ub) == int:\n",
        "    vct_pop = np.random.uniform(lb, ub, (pop_size, dim))\n",
        "  \n",
        "  elif type(ub) == tuple:\n",
        "    vct_pop = np.column_stack([np.random.uniform(lb[i], ub[i], pop_size) for i in range(len(ub))])\n",
        "\n",
        "  return vct_pop"
      ],
      "metadata": {
        "id": "W-BtXE7I44Bz"
      },
      "execution_count": null,
      "outputs": []
    },
    {
      "cell_type": "code",
      "source": [
        "def get_pheromone(fit, min, max):\n",
        "  pheromones = np.row_stack[(max - fit(i))/(max-min) for in in range(fit)]\n",
        "  return pheromones"
      ],
      "metadata": {
        "id": "8criT368KafZ"
      },
      "execution_count": null,
      "outputs": []
    },
    {
      "cell_type": "code",
      "source": [
        "def cauchy_rand(m,c):\n",
        "  cauchy = c * mat.tan(mat.pi * (random() - 0.5)) + m\n",
        "  return cauchy"
      ],
      "metadata": {
        "id": "-GTyCja7sFyq"
      },
      "execution_count": null,
      "outputs": []
    },
    {
      "cell_type": "code",
      "source": [
        "def get_binary():\n",
        "  pass"
      ],
      "metadata": {
        "id": "4vRPbbVHvjLE"
      },
      "execution_count": null,
      "outputs": []
    },
    {
      "cell_type": "code",
      "source": [
        "def jsoa(pop_size, iterations, lb, ub, dim, function):\n",
        "  \n",
        "  population = initialization(pop_size, dim, ub, lb)\n",
        "  \n",
        "  fitness = np.row_stack([function(population[i,:]) for i in range(pop_size)])\n",
        "  \n",
        "  min_indx = np.argmin(fitness)\n",
        "  min_val = fitness[min_indx]\n",
        "\n",
        "  max_indx = np.argmax(fitness)\n",
        "  max_val = fitness[max_indx]\n",
        "\n",
        "  best_vct = population[min_indx,:]\n",
        "  worst_vct = population[max_indx,:]\n",
        "\n",
        "  # Guardar min_val para la curva de convergencia\n",
        "\n",
        "  spyders_phrmns = get_pheromone(fitness, min_val, max_val)\n",
        "\n",
        "  gravity = 9.80665\n",
        "  vo = 100\n",
        "\n",
        "  # 🕷️🕷️ Jumpling Spider Optimization Algoritm 🕷️🕷️\n",
        "  \n",
        "  for i in range(iterations):\n",
        "    validation_pop = np.array(pop_size, copy=True)\n",
        "    \n",
        "    for j in range(pop_size):\n",
        "      \n",
        "      # Ataque\n",
        "      if random() < 0.5:        \n",
        "        \n",
        "        if random() < 0.5: # brinca sobre la presa E(6)\n",
        "          radians = 90 * random() * mat.pi/180\n",
        "          validation_pop[j,:] = (population(j,:) * mat.tan(radians))\n",
        "          - ((gravity * np.square(population(j,:))) \n",
        "          / (2 * vo^2 * np.square(cos(radians))))\n",
        "        \n",
        "        else:   # persecusión Eq(2)\n",
        "          ban = 1\n",
        "          while ban:\n",
        "            j1 = round(1 + (parameters.SearchAgents-1) * random())\n",
        "            if r ~= r1:\n",
        "              ban = 0\n",
        "          validation_pop[j,:] = 0.5 * (population(j,:) - population(j1,:))\n",
        "\n",
        "      # búsqueda\n",
        "      else:\n",
        "\n",
        "        if random()<0.5: # global Eq(8)\n",
        "          e1 = cauchy_rand(0, 1)\n",
        "          validation_pop[j,:] = best_vct + (best_vct - worst_vct) * e1\n",
        "\n",
        "        else: # local Eq(7)\n",
        "          walk = -2 + 4 * random()\n",
        "          e = None\n",
        "          validation_pop[j,:] = best_vct + walk * (0.5 - e)\n",
        "\n",
        "      if pheronome[j] <= 0.3:\n",
        "        band = 1\n",
        "        while band:\n",
        "          j1 = \n",
        "    \n",
        "      # v(r,:) = theBestVct + (Positions(r1,:)-((-1)^get_binary)*Positions(r2,:))/2;\n",
        "    \n",
        "      #boudery flag\n",
        "      # Este\n",
        "    \n",
        "      new_fitness = function(validation_pop[j,:])\n",
        "    \n",
        "      if new_fitness <= fitness[j]:\n",
        "        population[j,:] = validation_pop [j,:]\n",
        "        fitness[j] = new_fitness\n",
        "\n",
        "      if new_fitness <= min_val:\n",
        "        best_vct = validation_pop [j,:]\n",
        "        min_val = new_fitness\n",
        "      \n",
        "    max_indx = np.argmax(fitness)\n",
        "    max_val = fitness[max_indx]\n",
        "    worst_vct = population[max_indx,:]\n",
        "\n",
        "    spyders_phrmns = get_pheromone(fitness, min_val, max_val)\n",
        "\n",
        "    # Guardar min_val de esta generación \n",
        "  \n",
        "  return min_val, best_vct #convrgnce_curve"
      ],
      "metadata": {
        "id": "slFTBUlJ2JS7"
      },
      "execution_count": null,
      "outputs": []
    },
    {
      "cell_type": "code",
      "source": [
        "functn_obj, lb, ub, dim = functn_dtls(functn_name)\n",
        "min_val, best_vct = jsoa(pop_size, iterations, lb, ub, dim, functn_obj) # falta curvaConverg\n",
        " \n",
        "print(f\"La mejor solución obtenida por JSOA es:{best_vct}\")\n",
        "print(f\"{min_val} Es el valor de función minimizada\")"
      ],
      "metadata": {
        "id": "qk_exZxZjtiB",
        "colab": {
          "base_uri": "https://localhost:8080/",
          "height": 495
        },
        "outputId": "92ea5e8e-40ab-4354-b002-1cdbff957ffa"
      },
      "execution_count": null,
      "outputs": [
        {
          "output_type": "stream",
          "name": "stdout",
          "text": [
            "[[2440308.29593115]\n",
            " [1418392.93113569]\n",
            " [7038771.15393212]\n",
            " [3834318.02366539]\n",
            " [1909949.34177595]\n",
            " [ 988615.53313751]\n",
            " [1477764.12215007]\n",
            " [ 682947.98520749]\n",
            " [ 309433.39244119]\n",
            " [ 445982.85850863]]\n"
          ]
        },
        {
          "output_type": "error",
          "ename": "NameError",
          "evalue": "ignored",
          "traceback": [
            "\u001b[0;31m---------------------------------------------------------------------------\u001b[0m",
            "\u001b[0;31mNameError\u001b[0m                                 Traceback (most recent call last)",
            "\u001b[0;32m<ipython-input-6-79781be6f43b>\u001b[0m in \u001b[0;36m<module>\u001b[0;34m\u001b[0m\n\u001b[1;32m      1\u001b[0m \u001b[0mfunctn_obj\u001b[0m\u001b[0;34m,\u001b[0m \u001b[0mlb\u001b[0m\u001b[0;34m,\u001b[0m \u001b[0mub\u001b[0m\u001b[0;34m,\u001b[0m \u001b[0mdim\u001b[0m \u001b[0;34m=\u001b[0m \u001b[0mfunctn_dtls\u001b[0m\u001b[0;34m(\u001b[0m\u001b[0mfunctn_name\u001b[0m\u001b[0;34m)\u001b[0m\u001b[0;34m\u001b[0m\u001b[0;34m\u001b[0m\u001b[0m\n\u001b[0;32m----> 2\u001b[0;31m \u001b[0mmin_val\u001b[0m\u001b[0;34m,\u001b[0m \u001b[0mbest_vct\u001b[0m\u001b[0;34m,\u001b[0m \u001b[0mconvrgnce_curve\u001b[0m \u001b[0;34m=\u001b[0m \u001b[0mjsoa\u001b[0m\u001b[0;34m(\u001b[0m\u001b[0mpop_size\u001b[0m\u001b[0;34m,\u001b[0m \u001b[0miterations\u001b[0m\u001b[0;34m,\u001b[0m \u001b[0mlb\u001b[0m\u001b[0;34m,\u001b[0m \u001b[0mub\u001b[0m\u001b[0;34m,\u001b[0m \u001b[0mdim\u001b[0m\u001b[0;34m,\u001b[0m \u001b[0mfunctn_obj\u001b[0m\u001b[0;34m)\u001b[0m\u001b[0;34m\u001b[0m\u001b[0;34m\u001b[0m\u001b[0m\n\u001b[0m\u001b[1;32m      3\u001b[0m \u001b[0;34m\u001b[0m\u001b[0m\n\u001b[1;32m      4\u001b[0m \u001b[0mprint\u001b[0m\u001b[0;34m(\u001b[0m\u001b[0;34mf\"La mejor solución obtenida por JSOA es:{best_vct}\"\u001b[0m\u001b[0;34m)\u001b[0m\u001b[0;34m\u001b[0m\u001b[0;34m\u001b[0m\u001b[0m\n\u001b[1;32m      5\u001b[0m \u001b[0mprint\u001b[0m\u001b[0;34m(\u001b[0m\u001b[0;34mf\"{min_val} Es el valor de función minimizada\"\u001b[0m\u001b[0;34m)\u001b[0m\u001b[0;34m\u001b[0m\u001b[0;34m\u001b[0m\u001b[0m\n",
            "\u001b[0;32m<ipython-input-5-4d44b700bca3>\u001b[0m in \u001b[0;36mjsoa\u001b[0;34m(pop_size, iterations, lb, ub, dim, function)\u001b[0m\n\u001b[1;32m      6\u001b[0m   \u001b[0mprint\u001b[0m\u001b[0;34m(\u001b[0m\u001b[0mfitness\u001b[0m\u001b[0;34m)\u001b[0m\u001b[0;34m\u001b[0m\u001b[0;34m\u001b[0m\u001b[0m\n\u001b[1;32m      7\u001b[0m \u001b[0;34m\u001b[0m\u001b[0m\n\u001b[0;32m----> 8\u001b[0;31m   \u001b[0;32mreturn\u001b[0m \u001b[0mmin_val\u001b[0m\u001b[0;34m,\u001b[0m \u001b[0mbest_vct\u001b[0m\u001b[0;34m,\u001b[0m \u001b[0mconvrgnce_curve\u001b[0m\u001b[0;34m\u001b[0m\u001b[0;34m\u001b[0m\u001b[0m\n\u001b[0m",
            "\u001b[0;31mNameError\u001b[0m: name 'min_val' is not defined"
          ]
        }
      ]
    }
  ]
}